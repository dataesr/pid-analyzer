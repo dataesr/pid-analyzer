{
 "cells": [
  {
   "cell_type": "code",
   "execution_count": null,
   "id": "735f5eef",
   "metadata": {},
   "outputs": [],
   "source": [
    "import pandas as pd\n",
    "import requests\n",
    "from tempfile import mkdtemp\n",
    "from zipfile import ZipFile\n",
    "import os\n",
    "import json\n",
    "import shutil"
   ]
  },
  {
   "cell_type": "code",
   "execution_count": null,
   "id": "78157eba",
   "metadata": {},
   "outputs": [],
   "source": [
    "SCANR_DUMP_URL = 'https://scanr-data.s3.gra.io.cloud.ovh.net/production/organizations.jsonl.gz'"
   ]
  },
  {
   "cell_type": "code",
   "execution_count": 3,
   "id": "bba148db",
   "metadata": {},
   "outputs": [
    {
     "name": "stdout",
     "output_type": "stream",
     "text": [
      "Last ROR dump url found: https://zenodo.org/api/files/d72c6d64-be22-4040-ac02-6ce5451aaca1/v1.23-2023-04-12-ror-data.zip\n",
      "download ROR\n"
     ]
    }
   ],
   "source": [
    "def get_last_ror_dump_url():\n",
    "    try:\n",
    "        ROR_URL = 'https://zenodo.org/api/records/?communities=ror-data&sort=mostrecent'\n",
    "        response = requests.get(url=ROR_URL).json()\n",
    "        ror_dump_url = response['hits']['hits'][0]['files'][-1]['links']['self']\n",
    "        print(f'Last ROR dump url found: {ror_dump_url}')\n",
    "    except:\n",
    "        ror_dump_url = 'https://zenodo.org/api/files/25d4f93f-6854-4dd4-9954-173197e7fad7/v1.1-2022-06-16-ror-data.zip'\n",
    "        print(f'ROR dump url detection failed, using {ror_dump_url} instead')\n",
    "    return ror_dump_url\n",
    "ROR_DUMP_URL = get_last_ror_dump_url()\n",
    "CHUNK_SIZE = 128\n",
    "def download_ror_data() -> list:\n",
    "    print('download ROR')\n",
    "    ror_downloaded_file = 'ror_data_dump.zip'\n",
    "    ror_unzipped_folder = mkdtemp()\n",
    "    response = requests.get(url=ROR_DUMP_URL, stream=True)\n",
    "    with open(file=ror_downloaded_file, mode='wb') as file:\n",
    "        for chunk in response.iter_content(chunk_size=CHUNK_SIZE):\n",
    "            file.write(chunk)\n",
    "    with ZipFile(file=ror_downloaded_file, mode='r') as file:\n",
    "        file.extractall(ror_unzipped_folder)\n",
    "    for data_file in os.listdir(ror_unzipped_folder):\n",
    "        if data_file.endswith('.json'):\n",
    "            with open(f'{ror_unzipped_folder}/{data_file}', 'r') as file:\n",
    "                data = json.load(file)\n",
    "    os.remove(path=ror_downloaded_file)\n",
    "    shutil.rmtree(path=ror_unzipped_folder)\n",
    "    return data\n",
    "\n",
    "ror_data = download_ror_data()\n",
    "\n",
    "grid_to_ror = {}\n",
    "for r in ror_data:\n",
    "    grid = (r['external_ids'].get('GRID', {}).get('all'))\n",
    "    if grid is None:\n",
    "        continue\n",
    "    if len(grid) in [11, 12, 13]:\n",
    "        grid_to_ror[grid] = r['id'].split('/')[-1]\n",
    "    else:\n",
    "        print(grid)\n"
   ]
  },
  {
   "cell_type": "code",
   "execution_count": 4,
   "id": "12c681de",
   "metadata": {},
   "outputs": [],
   "source": [
    "df_paysage = pd.read_json('paysage.jsonl', lines=True, dtype = {'siren': str, 'siret':str, 'idref':str, 'ed':str})\n",
    "#df_paysage['name_normalized'] = df_paysage['name'].apply(lambda x:normalize(x))"
   ]
  },
  {
   "cell_type": "code",
   "execution_count": 5,
   "id": "bda4ccfe",
   "metadata": {},
   "outputs": [
    {
     "data": {
      "text/plain": [
       "4610"
      ]
     },
     "execution_count": 5,
     "metadata": {},
     "output_type": "execute_result"
    }
   ],
   "source": [
    "df_scanr = pd.read_json(SCANR_DUMP_URL, lines=True)\n",
    "\n",
    "scanr_data = df_scanr.to_dict(orient='records')\n",
    "df_scanr['scanr_id'] = df_scanr['id']\n",
    "df_scanr = df_scanr.set_index('id')\n",
    "\n",
    "rnsr_actif = []\n",
    "for e in scanr_data:\n",
    "    to_keep = False\n",
    "    if e['status'] != 'active':\n",
    "        continue\n",
    "    current_rnsr = None\n",
    "    for idf in e.get('externalIds', []):\n",
    "        if idf.get('type') == 'rnsr':\n",
    "            to_keep = True\n",
    "            current_rnsr = idf['id']\n",
    "            e['rnsr'] = current_rnsr\n",
    "    if to_keep:\n",
    "        rnsr_actif.append(e)\n",
    "len(rnsr_actif)"
   ]
  },
  {
   "cell_type": "code",
   "execution_count": 6,
   "id": "e75057cb",
   "metadata": {},
   "outputs": [],
   "source": [
    "def enrich_with_paysage(elt):\n",
    "    enrich = None\n",
    "    \n",
    "    #elt['name_normalized'] = normalize(elt['scanr_label'])\n",
    "    \n",
    "    for f in ['grid', 'ror', 'siret', 'siren', 'idref']:\n",
    "        if elt.get(f):\n",
    "            current_id = elt[f]\n",
    "            df_current = df_paysage[df_paysage[f] == current_id]\n",
    "            if len(df_current) == 1:\n",
    "                #print(f)\n",
    "                enrich = df_current.to_dict(orient='records')[0]\n",
    "                break\n",
    "            if len(df_current) > 1:\n",
    "                df_current2 = df_current[df_current.city == elt['scanr_city']]\n",
    "                if len(df_current2) == 1:\n",
    "                    enrich = df_current2.to_dict(orient='records')[0]\n",
    "                    break\n",
    "    if enrich:\n",
    "        elt['paysage_label'] = enrich['name']\n",
    "        elt['paysage_city'] = enrich['city']\n",
    "        elt['paysage_country'] = enrich['country']\n",
    "        for f in ['rnsr', 'paysage', 'siret', 'siren', 'wikidata', 'idref', 'ror', 'grid', 'ed']:\n",
    "            if enrich.get(f) and enrich[f] != 'None':\n",
    "                if f in elt and elt[f] != enrich[f]:\n",
    "                    #print(f, elt[f], enrich[f])\n",
    "                    pass\n",
    "                elt[f] = enrich[f]\n",
    "    else:\n",
    "        pass\n",
    "        #print('----')\n",
    "        #print('not found in paysage')\n",
    "        #print(\"'\"+elt['scanr_id']+\"',\")\n",
    "        #print('-----')\n",
    "    for f in elt.copy():\n",
    "        if elt[f] == None or elt[f] == 'None':\n",
    "            del elt[f]\n",
    "    return elt"
   ]
  },
  {
   "cell_type": "code",
   "execution_count": 7,
   "id": "533f6e40",
   "metadata": {},
   "outputs": [],
   "source": [
    "def get_main(x):\n",
    "    for e in x:\n",
    "        if e.get('main') == True:\n",
    "            return e\n",
    "    return None"
   ]
  },
  {
   "cell_type": "code",
   "execution_count": 8,
   "id": "2e94ce58",
   "metadata": {},
   "outputs": [],
   "source": [
    "def get_city(e):\n",
    "    add = get_main(e['address'])\n",
    "    if add:\n",
    "        return add.get('city', '')\n",
    "    return ''\n",
    "\n",
    "def get_country(e):\n",
    "    add = get_main(e['address'])\n",
    "    if add:\n",
    "        return add.get('country', '')\n",
    "    return ''"
   ]
  },
  {
   "cell_type": "code",
   "execution_count": 9,
   "id": "fbd115ce",
   "metadata": {},
   "outputs": [],
   "source": [
    "df_tutelles = pd.read_csv('tutelles.csv')\n",
    "rnsr_tutelles = {}\n",
    "for row in df_tutelles.itertuples():\n",
    "    linked_rnsr = row.linked_rnsr.split('|')\n",
    "    for r in linked_rnsr:\n",
    "        if r not in rnsr_tutelles:\n",
    "            rnsr_tutelles[r] = []\n",
    "        tmp = row._asdict()\n",
    "        elt = {}\n",
    "        for f in ['ror', 'idref', 'paysage_label', 'paysage', 'wikidata']:\n",
    "            if isinstance(tmp.get(f), str):\n",
    "                elt[f] = tmp[f]\n",
    "        rnsr_tutelles[r].append(elt)\n",
    "        "
   ]
  },
  {
   "cell_type": "code",
   "execution_count": 10,
   "id": "c393b18a",
   "metadata": {},
   "outputs": [
    {
     "data": {
      "text/plain": [
       "[{'ror': '037tw3m02',\n",
       "  'paysage_label': 'MBS',\n",
       "  'paysage': '5HerM',\n",
       "  'wikidata': 'Q3117571'}]"
      ]
     },
     "execution_count": 10,
     "metadata": {},
     "output_type": "execute_result"
    }
   ],
   "source": [
    "rnsr_tutelles['202324384J']"
   ]
  },
  {
   "cell_type": "code",
   "execution_count": 11,
   "id": "4f312f33",
   "metadata": {},
   "outputs": [
    {
     "name": "stdout",
     "output_type": "stream",
     "text": [
      "0,100,200,300,400,500,600,700,800,900,1000,1100,1200,1300,1400,1500,1600,1700,1800,1900,2000,2100,2200,2300,2400,2500,2600,2700,2800,2900,3000,3100,3200,3300,3400,3500,3600,3700,3800,3900,4000,4100,4200,4300,4400,4500,4600,"
     ]
    }
   ],
   "source": [
    "labos = []\n",
    "for jx, e in enumerate(rnsr_actif):\n",
    "    if jx%100 == 0:\n",
    "        print(jx, end=',')\n",
    "    elt = {'scanr_id': e['id'], 'scanr_label': e['label'].get('default'), \n",
    "           'scanr_city': get_city(e), 'scanr_country': get_country(e), \n",
    "           'scanr_acronym': e.get('acronym', {}).get('default')}\n",
    "    \n",
    "    elt['tutelles'] = []\n",
    "    current_rnsr = e['rnsr']\n",
    "    if current_rnsr in rnsr_tutelles:\n",
    "        elt['tutelles'] = rnsr_tutelles[current_rnsr]\n",
    "        \n",
    "    elt['nb_tutelles'] = len(elt['tutelles'])\n",
    "    \n",
    "    elt['tutelles_paysage'] = '|'.join([k.get('paysage') for k in elt['tutelles'] if 'paysage' in k])\n",
    "            \n",
    "    for g in e.get('externalIds', []):\n",
    "        if g['type'] in ['rnsr', 'idref', 'ror', 'grid', 'label_numero']:\n",
    "            value = g['id'].replace('idref', '')\n",
    "            if g['type'] not in elt:\n",
    "                elt[g['type']] = value\n",
    "    if elt.get('grid') and not elt.get('ror'):\n",
    "        if elt['grid'] in grid_to_ror:\n",
    "            elt['ror'] = grid_to_ror[elt['grid']]\n",
    "    elt = enrich_with_paysage(elt)\n",
    "    labos.append(elt)"
   ]
  },
  {
   "cell_type": "code",
   "execution_count": 12,
   "id": "ec304966",
   "metadata": {},
   "outputs": [],
   "source": [
    "df_labos = pd.DataFrame(labos)"
   ]
  },
  {
   "cell_type": "code",
   "execution_count": 13,
   "id": "85b5c2f8",
   "metadata": {},
   "outputs": [
    {
     "data": {
      "text/plain": [
       "{'scanr_id': '202224401G',\n",
       " 'scanr_label': 'Laboratoire Interdisciplinaire Territoire Histoire Organisation RégulAtion Loi',\n",
       " 'scanr_city': 'La Rochelle',\n",
       " 'scanr_country': 'France',\n",
       " 'scanr_acronym': 'LITHORAL',\n",
       " 'tutelles': [{'ror': '04mv1z119',\n",
       "   'idref': '035375043',\n",
       "   'paysage_label': 'La Rochelle Université',\n",
       "   'paysage': 'atbEK',\n",
       "   'wikidata': 'Q1500822'}],\n",
       " 'nb_tutelles': 1,\n",
       " 'tutelles_paysage': 'atbEK',\n",
       " 'rnsr': '202224401G'}"
      ]
     },
     "execution_count": 13,
     "metadata": {},
     "output_type": "execute_result"
    }
   ],
   "source": [
    "elt"
   ]
  },
  {
   "cell_type": "code",
   "execution_count": 14,
   "id": "3c520a24",
   "metadata": {},
   "outputs": [
    {
     "data": {
      "text/plain": [
       "France            4374\n",
       "                   110\n",
       "NaN                 92\n",
       "Singapour            4\n",
       "Japon                4\n",
       "Canada               4\n",
       "Etats-Unis           4\n",
       "Chili                3\n",
       "Inde                 2\n",
       "Mexique              2\n",
       "Corée du Sud         1\n",
       "Sénégal              1\n",
       "Egypte               1\n",
       "Autriche             1\n",
       "Brésil               1\n",
       "Chine                1\n",
       "Argentine            1\n",
       "Russie               1\n",
       "Ethiopie             1\n",
       "Israël               1\n",
       "Afrique du Sud       1\n",
       "Name: scanr_country, dtype: int64"
      ]
     },
     "execution_count": 14,
     "metadata": {},
     "output_type": "execute_result"
    }
   ],
   "source": [
    "df_labos.scanr_country.value_counts(dropna=False)"
   ]
  },
  {
   "cell_type": "code",
   "execution_count": 15,
   "id": "ee854985",
   "metadata": {},
   "outputs": [],
   "source": [
    "def match_ror(elt):\n",
    "\n",
    "    params = {'type': \"ror\", 'year': \"2022\", \n",
    "                            'name': elt.get('scanr_label'),\n",
    "                            'city': elt.get('scanr_city'),\n",
    "                            'country': elt.get('scanr_country')\n",
    "                           }\n",
    "    if elt.get('scanr_acronym'):\n",
    "        params['acronym'] = elt.get('scanr_acronym')\n",
    "    supervisors_name = [k.get('paysage_label') for k in elt.get('tutelles', []) if k.get('paysage_label')]\n",
    "    if supervisors_name:\n",
    "        params['supervisor_name'] = ' '.join(supervisors_name)\n",
    "    r = requests.post('https://affiliation-matcher.staging.dataesr.ovh/match', \n",
    "                      json=params)\n",
    "    return r.json()['results']\n",
    "                            "
   ]
  },
  {
   "cell_type": "code",
   "execution_count": 16,
   "id": "f0b38c88",
   "metadata": {},
   "outputs": [
    {
     "data": {
      "text/plain": [
       "['00t9y0z13']"
      ]
     },
     "execution_count": 16,
     "metadata": {},
     "output_type": "execute_result"
    }
   ],
   "source": [
    "match_ror(labos[2])"
   ]
  },
  {
   "cell_type": "code",
   "execution_count": 17,
   "id": "c19a2c07",
   "metadata": {},
   "outputs": [
    {
     "name": "stdout",
     "output_type": "stream",
     "text": [
      "0,50,100,150,200,250,300,350,400,450,500,550,600,650,700,750,800,850,900,950,1000,1050,-----------------\n",
      "multiple rors !\n",
      "{'scanr_id': '201119517W', 'scanr_label': \"Maison des sciences de l'homme de Montpellier\", 'scanr_city': 'Montpellier', 'scanr_country': 'France', 'scanr_acronym': 'MSH M', 'tutelles': [{'ror': '05q3vnk25', 'idref': '050165224', 'paysage_label': 'Institut de recherche pour le développement', 'paysage': 'Uan45', 'wikidata': 'Q2910510'}, {'ror': '051escj72', 'paysage_label': 'Université de Montpellier', 'paysage': 'evv7S'}, {'ror': '00qhdy563', 'idref': '026404702', 'paysage_label': 'Université Paul-Valéry - Montpellier 3', 'paysage': '1I7hJ', 'wikidata': 'Q2912244'}, {'ror': '05kpkpg04', 'idref': '026643790', 'paysage_label': 'Centre de coopération internationale en recherche agronomique pour le développement', 'paysage': '7dd3j', 'wikidata': 'Q2945274'}], 'nb_tutelles': 4, 'tutelles_paysage': 'Uan45|evv7S|1I7hJ|7dd3j', 'rnsr': '201119517W', 'label_numero': 'FED 4156'}\n",
      "['01petg633', '022y5bk62']\n",
      "-----------------\n",
      "1100,1150,1200,1250,1300,1350,1400,1450,1500,1550,-----------------\n",
      "multiple rors !\n",
      "{'scanr_id': '201722324W', 'scanr_label': 'Maison des Sciences de l\\'Homme \"Les Sciences Unies pour un autre Développement\"', 'scanr_city': 'Montpellier', 'scanr_country': 'France', 'scanr_acronym': 'MSH Sud', 'tutelles': [{'ror': '02feahw73', 'idref': '02636817X', 'paysage_label': 'Centre national de la recherche scientifique', 'paysage': 'n2X5f', 'wikidata': 'Q280413'}, {'ror': '05q3vnk25', 'idref': '050165224', 'paysage_label': 'Institut de recherche pour le développement', 'paysage': 'Uan45', 'wikidata': 'Q2910510'}, {'idref': '260373249', 'paysage_label': \"Institut national d'enseignement supérieur pour l'agriculture, l'alimentation et l'environnement\", 'paysage': 'MihlE', 'wikidata': 'Q81433122'}, {'ror': '051escj72', 'paysage_label': 'Université de Montpellier', 'paysage': 'evv7S'}, {'ror': '00qhdy563', 'idref': '026404702', 'paysage_label': 'Université Paul-Valéry - Montpellier 3', 'paysage': '1I7hJ', 'wikidata': 'Q2912244'}, {'ror': '05kpkpg04', 'idref': '026643790', 'paysage_label': 'Centre de coopération internationale en recherche agronomique pour le développement', 'paysage': '7dd3j', 'wikidata': 'Q2945274'}, {'ror': '04abkkz03', 'idref': '026438941', 'paysage_label': 'Centre international de hautes études agronomiques méditerranéennes', 'paysage': '4N38x', 'wikidata': 'Q2972371'}, {'ror': '044t4x544', 'idref': '115588701', 'paysage_label': 'Université de Nîmes', 'paysage': 'HAU8L', 'wikidata': 'Q2496121'}, {'ror': '008axfh28', 'paysage_label': \"École nationale supérieure d'architecture de Montpellier\", 'paysage': 'psuJz', 'wikidata': 'Q3578259'}], 'nb_tutelles': 9, 'tutelles_paysage': 'n2X5f|Uan45|MihlE|evv7S|1I7hJ|7dd3j|4N38x|HAU8L|psuJz', 'rnsr': '201722324W', 'label_numero': 'FR 2005'}\n",
      "['01petg633', '022y5bk62']\n",
      "-----------------\n",
      "1600,1650,1700,1750,-----------------\n",
      "multiple rors !\n",
      "{'scanr_id': '201521827P', 'scanr_label': \"Maison des sciences de l'homme Paris-Saclay\", 'scanr_city': 'Cachan', 'scanr_country': 'France', 'scanr_acronym': 'MSH Paris-Saclay', 'tutelles': [{'ror': '02feahw73', 'idref': '02636817X', 'paysage_label': 'Centre national de la recherche scientifique', 'paysage': 'n2X5f', 'wikidata': 'Q280413'}, {'ror': '003vg9w96', 'paysage_label': \"Institut national de recherche pour l'agriculture, l'alimentation et l'environnement\", 'paysage': 't4SA4', 'wikidata': 'Q70571774'}, {'ror': '013cjyk83', 'paysage_label': 'Université Paris sciences et lettres', 'paysage': 'PpsCQ', 'wikidata': 'Q1163431'}, {'ror': '00jjx8s55', 'idref': '026372061', 'paysage_label': 'Commissariat à l’énergie atomique et aux énergies alternatives', 'paysage': 'zYXK8', 'wikidata': 'Q868550'}, {'ror': '03xjwb503', 'idref': '241345251', 'paysage_label': 'Université Paris-Saclay', 'paysage': 'G2qA7', 'wikidata': 'Q109409389'}, {'ror': '00d0rke27', 'idref': '033592497', 'paysage_label': \"Institut d'optique Graduate School\", 'paysage': 'QtZkX', 'wikidata': 'Q898448'}, {'ror': '02kbmgc12', 'idref': '139408088', 'paysage_label': \"Institut national des sciences et industries du vivant et de l'environnement\", 'paysage': 'SsSFH', 'wikidata': 'Q1637105'}, {'ror': '019tcpt25', 'idref': '184443237', 'paysage_label': 'CentraleSupélec', 'paysage': 'm84Aa', 'wikidata': 'Q19203245'}, {'ror': '03mkjjy25', 'idref': '03082057X', 'paysage_label': 'Université de Versailles Saint-Quentin-en-Yvelines', 'paysage': 'V13Pk', 'wikidata': 'Q186638'}, {'ror': '00hx6zz33', 'idref': '028237080', 'paysage_label': 'École normale supérieure Paris-Saclay', 'paysage': '6kk6n', 'wikidata': 'Q273604'}, {'ror': '00e96v939', 'idref': '030820529', 'paysage_label': \"Université d'Évry-Val-d'Essonne\", 'paysage': 'RN4E6', 'wikidata': 'Q1531014'}, {'ror': '05hy3tk52', 'idref': '027309320', 'paysage_label': 'École polytechnique', 'paysage': 'DdW7n', 'wikidata': 'Q273626'}, {'ror': '042tfbd02', 'idref': '238327159', 'paysage_label': 'Institut polytechnique de Paris', 'paysage': 'kYR50', 'wikidata': 'Q48759778'}, {'ror': '0423jsj19', 'idref': '027321118', 'paysage_label': 'École des hautes études commerciales de Paris', 'paysage': '2rXuC', 'wikidata': 'Q273535'}, {'ror': '0309cs235', 'idref': '028139577', 'paysage_label': 'École nationale supérieure de techniques avancées', 'paysage': 'DY7kV', 'wikidata': 'Q838454'}, {'ror': '01naq7912', 'idref': '026375273', 'paysage_label': 'Télécom Paris', 'paysage': 'K6jgY', 'wikidata': 'Q2311820'}, {'paysage_label': 'Télécom SudParis', 'paysage': 'YvBkH', 'wikidata': 'Q43305'}, {'ror': '01p6yxw64', 'idref': '03405250X', 'paysage_label': \"Groupe des écoles nationales d'économie et statistique\", 'paysage': 'xQM8u', 'wikidata': 'Q3117819'}], 'nb_tutelles': 18, 'tutelles_paysage': 'n2X5f|t4SA4|PpsCQ|zYXK8|G2qA7|QtZkX|SsSFH|m84Aa|V13Pk|6kk6n|RN4E6|DdW7n|kYR50|2rXuC|DY7kV|K6jgY|YvBkH|xQM8u', 'rnsr': '201521827P', 'label_numero': 'USR 3683'}\n",
      "['01petg633', '022y5bk62']\n",
      "-----------------\n",
      "-----------------\n",
      "multiple rors !\n",
      "{'scanr_id': '200610832C', 'scanr_label': \"Maison des sciences de l'homme\", 'scanr_city': 'Clermont-Ferrand', 'scanr_country': 'France', 'scanr_acronym': 'MSH', 'tutelles': [{'ror': '02feahw73', 'idref': '02636817X', 'paysage_label': 'Centre national de la recherche scientifique', 'paysage': 'n2X5f', 'wikidata': 'Q280413'}, {'ror': '01c7wz417', 'idref': '156395703', 'paysage_label': 'Vet Agro Sup', 'paysage': '5cuYU', 'wikidata': 'Q3151920'}, {'ror': '01a8ajp46', 'paysage_label': 'Université Clermont Auvergne', 'paysage': 'K4lR3'}, {'ror': '04dw8vw47', 'idref': '029573238', 'paysage_label': \"École nationale supérieure d'architecture de Clermont-Ferrand\", 'paysage': 'CYH3t', 'wikidata': 'Q3578176'}], 'nb_tutelles': 4, 'tutelles_paysage': 'n2X5f|5cuYU|K4lR3|CYH3t', 'rnsr': '200610832C', 'label_numero': 'USR 3550'}\n",
      "['01petg633', '022y5bk62']\n",
      "-----------------\n",
      "1800,1850,1900,1950,2000,2050,2100,2150,2200,-----------------\n",
      "multiple rors !\n",
      "{'scanr_id': '201120533A', 'scanr_label': \"Maison des sciences de l'homme - Alpes\", 'scanr_city': \"Saint-Martin-d'Hères\", 'scanr_country': 'France', 'scanr_acronym': 'MSH Alpes', 'tutelles': [{'ror': '02feahw73', 'idref': '02636817X', 'paysage_label': 'Centre national de la recherche scientifique', 'paysage': 'n2X5f', 'wikidata': 'Q280413'}, {'ror': '02rx3b187', 'paysage_label': 'Université Grenoble Alpes', 'paysage': 'Y7ch7', 'wikidata': 'Q945876'}, {'ror': '05sbt2524', 'idref': '026388804', 'paysage_label': 'Institut polytechnique de Grenoble', 'paysage': '2ALYK', 'wikidata': 'Q1665121'}, {'ror': '04gqg1a07', 'idref': '026369125', 'paysage_label': 'Université Savoie Mont Blanc', 'paysage': 'zCa4j', 'wikidata': 'Q2496158'}, {'idref': '026386305', 'paysage_label': 'Sciences Po Grenoble', 'paysage': '851ij', 'wikidata': 'Q3151959'}], 'nb_tutelles': 5, 'tutelles_paysage': 'n2X5f|Y7ch7|2ALYK|zCa4j|851ij', 'rnsr': '201120533A', 'idref': '059645970', 'label_numero': 'UAR 3394', 'paysage_label': \"Maison des Sciences de l'Homme Alpes\", 'paysage_city': \"Saint-Martin-d'Hères\", 'paysage_country': 'France', 'paysage': 'vumsr', 'siret': 'nan', 'siren': 'nan', 'wikidata': 'Q51781039', 'ed': 'nan'}\n",
      "['01petg633', '022y5bk62']\n",
      "-----------------\n"
     ]
    },
    {
     "name": "stdout",
     "output_type": "stream",
     "text": [
      "2250,2300,2350,------\n",
      "MISMATCH ! 035xkbk20\n",
      "{'scanr_id': '201220324U', 'scanr_label': 'Aix-Marseille school of economics', 'scanr_city': 'Marseille', 'scanr_country': 'France', 'scanr_acronym': 'AMSE', 'tutelles': [{'ror': '02feahw73', 'idref': '02636817X', 'paysage_label': 'Centre national de la recherche scientifique', 'paysage': 'n2X5f', 'wikidata': 'Q280413'}, {'ror': '02d9dg697', 'idref': '026374889', 'paysage_label': 'École des hautes études en sciences sociales', 'paysage': 'y52D7', 'wikidata': 'Q273518'}, {'ror': '040baw385', 'idref': '163078998', 'paysage_label': 'Centrale Méditerranée', 'paysage': '1tI7C', 'wikidata': 'Q273454'}, {'ror': '035xkbk20', 'idref': '15863621X', 'paysage_label': 'Aix-Marseille Université', 'paysage': 'xJdyB', 'wikidata': 'Q2302586'}], 'nb_tutelles': 4, 'tutelles_paysage': 'n2X5f|y52D7|1tI7C|xJdyB', 'rnsr': '201220324U', 'grid': 'grid.462942.f', 'idref': '034789731', 'label_numero': 'UMR 7316', 'ror': '02ek9wp67', 'match_ror': '035xkbk20'}\n",
      "------\n",
      "2400,2450,2500,2550,-----------------\n",
      "multiple rors !\n",
      "{'scanr_id': '201622179T', 'scanr_label': 'Unité de recherche oenologie', 'scanr_city': \"Villenave-d'Ornon\", 'scanr_country': 'France', 'tutelles': [{'ror': '003vg9w96', 'paysage_label': \"Institut national de recherche pour l'agriculture, l'alimentation et l'environnement\", 'paysage': 't4SA4', 'wikidata': 'Q70571774'}, {'ror': '057qpr032', 'idref': '175206562', 'paysage_label': 'Université de Bordeaux', 'paysage': '90I54', 'wikidata': 'Q13344'}, {'ror': '054qv7y42', 'idref': '175330263', 'paysage_label': 'Bordeaux INP', 'paysage': 'S88MV', 'wikidata': 'Q3152470'}, {'ror': '00har9915', 'idref': '026374986', 'paysage_label': 'École nationale supérieure des sciences agronomiques de Bordeaux Aquitaine', 'paysage': 'lfdJH', 'wikidata': 'Q3578255'}], 'nb_tutelles': 4, 'tutelles_paysage': 't4SA4|90I54|S88MV|lfdJH', 'rnsr': '201622179T', 'idref': '184944171', 'label_numero': 'EA 4577'}\n",
      "['04xz2my07', '0473hxz56']\n",
      "-----------------\n",
      "2600,2650,2700,2750,-----------------\n",
      "multiple rors !\n",
      "{'scanr_id': '201320553N', 'scanr_label': \"Maison des sciences de l'homme Val de Loire\", 'scanr_city': 'Tours', 'scanr_country': 'France', 'scanr_acronym': 'MSH VL', 'tutelles': [{'ror': '02feahw73', 'idref': '02636817X', 'paysage_label': 'Centre national de la recherche scientifique', 'paysage': 'n2X5f', 'wikidata': 'Q280413'}, {'ror': '014zrew76', 'idref': '026402971', 'paysage_label': \"Université d'Orléans\", 'paysage': 'HCBvW', 'wikidata': 'Q13334'}, {'ror': '02wwzvj46', 'idref': '026404478', 'paysage_label': 'Université de Tours', 'paysage': 'cqkij', 'wikidata': 'Q494335'}], 'nb_tutelles': 3, 'tutelles_paysage': 'n2X5f|HCBvW|cqkij', 'rnsr': '201320553N', 'label_numero': 'UAR 3501'}\n",
      "['01petg633', '022y5bk62']\n",
      "-----------------\n",
      "2800,2850,2900,2950,3000,3050,3100,3150,3200,3250,3300,3350,3400,3450,3500,3550,3600,3650,3700,3750,3800,3850,3900,3950,4000,4050,4100,4150,4200,4250,4300,4350,4400,4450,4500,4550,4600,"
     ]
    }
   ],
   "source": [
    "for ix, elt in enumerate(labos):\n",
    "    \n",
    "    if 'match_ror' in elt:\n",
    "        del elt['match_ror']\n",
    "    \n",
    "    if ix%50 == 0:\n",
    "        print(ix, end=',')\n",
    "    \n",
    "    rors = match_ror(elt)\n",
    "    if len(rors) == 1:\n",
    "        elt['match_ror'] = rors[0]\n",
    "        if 'ror' in elt:\n",
    "            if elt['ror'] != rors[0]:\n",
    "                print('------')\n",
    "                print(\"MISMATCH ! \" + rors[0])\n",
    "                print(elt)\n",
    "                print('------')\n",
    "    elif len(rors) == 0:\n",
    "        continue\n",
    "    else:\n",
    "        print('-----------------')\n",
    "        print('multiple rors !')\n",
    "        print(elt)\n",
    "        print(rors)\n",
    "        print('-----------------')\n",
    "    "
   ]
  },
  {
   "cell_type": "code",
   "execution_count": 18,
   "id": "13b81f4f",
   "metadata": {},
   "outputs": [],
   "source": [
    "# doublons ['04xz2my07', '0473hxz56'] pour 201622179T"
   ]
  },
  {
   "cell_type": "code",
   "execution_count": 19,
   "id": "9a56b2b9",
   "metadata": {},
   "outputs": [],
   "source": [
    "df_labos = pd.DataFrame(labos)\n",
    "\n",
    "for ix, row in df_labos.iterrows():\n",
    "    if isinstance(row.ror, str):\n",
    "        df_labos.at[ix, 'new_ror'] = row.ror\n",
    "    elif 'match_ror' in row and isinstance(row.match_ror, str):\n",
    "        df_labos.at[ix, 'new_ror'] = row.match_ror"
   ]
  },
  {
   "cell_type": "code",
   "execution_count": 20,
   "id": "4363e04e",
   "metadata": {},
   "outputs": [],
   "source": [
    "df_labos_final = df_labos[['rnsr', 'new_ror', 'scanr_label', 'scanr_acronym', 'scanr_city', 'tutelles_paysage', 'nb_tutelles', 'idref', 'paysage', 'label_numero']]\n",
    "df_labos_final.columns = ['rnsr', 'ror', 'scanr_label', 'scanr_acronym', 'scanr_city', 'tutelles_paysage', 'nb_tutelles', 'idref', 'paysage', 'label_numero']"
   ]
  },
  {
   "cell_type": "code",
   "execution_count": 21,
   "id": "c8364588",
   "metadata": {},
   "outputs": [],
   "source": [
    "df_labos_final.to_csv('labos.csv', index=False)"
   ]
  },
  {
   "cell_type": "code",
   "execution_count": 22,
   "id": "721a1a7d",
   "metadata": {},
   "outputs": [],
   "source": [
    "df_note = pd.DataFrame([{'note': 'Le RNSR 201622179T apparaît en doublon dans ROR : 04xz2my07 et 0473hxz56'}])"
   ]
  },
  {
   "cell_type": "code",
   "execution_count": 23,
   "id": "bcad0aaf",
   "metadata": {},
   "outputs": [],
   "source": [
    "df_ed = pd.read_csv('ed.csv')"
   ]
  },
  {
   "cell_type": "code",
   "execution_count": 24,
   "id": "83a35901",
   "metadata": {},
   "outputs": [],
   "source": [
    "def get_stat(df):\n",
    "    stats = {}\n",
    "    total = len(df)\n",
    "    stats['nb_total'] = total\n",
    "    for f in ['ror', 'paysage', 'idref']:\n",
    "        nb = len(df[f].dropna())\n",
    "        stats[f'nb_{f}'] = nb\n",
    "        stats[f'percentage_{f}'] = nb/total\n",
    "    return stats"
   ]
  },
  {
   "cell_type": "code",
   "execution_count": 25,
   "id": "7ba906c8",
   "metadata": {},
   "outputs": [],
   "source": [
    "stats_tutelles = get_stat(df_tutelles)\n",
    "stats_labos = get_stat(df_labos_final)\n",
    "stats_ed = get_stat(df_ed)\n",
    "df_stats = pd.DataFrame({'tutelles':stats_tutelles, 'laboratoires': stats_labos, 'ED': stats_ed}).reset_index()\n",
    "df_stats.columns=['indicator', 'tutelles', 'laboratoires', 'ED']"
   ]
  },
  {
   "cell_type": "code",
   "execution_count": 26,
   "id": "64e794d3",
   "metadata": {},
   "outputs": [],
   "source": [
    "writer = pd.ExcelWriter(\"rnsr_ror.xlsx\", engine=\"xlsxwriter\")\n",
    "df_stats.to_excel(writer, sheet_name=\"bilan\", index=False)\n",
    "df_tutelles.to_excel(writer, sheet_name=\"tutelles\", index=False)\n",
    "df_labos_final.to_excel(writer, sheet_name=\"labos\", index=False)\n",
    "df_ed.to_excel(writer, sheet_name=\"ED\", index=False)\n",
    "df_note.to_excel(writer, sheet_name=\"notes\", index=False)\n",
    "writer.close()"
   ]
  },
  {
   "cell_type": "code",
   "execution_count": 27,
   "id": "5b83d277",
   "metadata": {},
   "outputs": [
    {
     "data": {
      "text/html": [
       "<div>\n",
       "<style scoped>\n",
       "    .dataframe tbody tr th:only-of-type {\n",
       "        vertical-align: middle;\n",
       "    }\n",
       "\n",
       "    .dataframe tbody tr th {\n",
       "        vertical-align: top;\n",
       "    }\n",
       "\n",
       "    .dataframe thead th {\n",
       "        text-align: right;\n",
       "    }\n",
       "</style>\n",
       "<table border=\"1\" class=\"dataframe\">\n",
       "  <thead>\n",
       "    <tr style=\"text-align: right;\">\n",
       "      <th></th>\n",
       "      <th>indicator</th>\n",
       "      <th>tutelles</th>\n",
       "      <th>laboratoires</th>\n",
       "      <th>ED</th>\n",
       "    </tr>\n",
       "  </thead>\n",
       "  <tbody>\n",
       "    <tr>\n",
       "      <th>0</th>\n",
       "      <td>nb_total</td>\n",
       "      <td>385.000000</td>\n",
       "      <td>4610.000000</td>\n",
       "      <td>274.000000</td>\n",
       "    </tr>\n",
       "    <tr>\n",
       "      <th>1</th>\n",
       "      <td>nb_ror</td>\n",
       "      <td>342.000000</td>\n",
       "      <td>1067.000000</td>\n",
       "      <td>0.000000</td>\n",
       "    </tr>\n",
       "    <tr>\n",
       "      <th>2</th>\n",
       "      <td>percentage_ror</td>\n",
       "      <td>0.888312</td>\n",
       "      <td>0.231453</td>\n",
       "      <td>0.000000</td>\n",
       "    </tr>\n",
       "    <tr>\n",
       "      <th>3</th>\n",
       "      <td>nb_paysage</td>\n",
       "      <td>384.000000</td>\n",
       "      <td>575.000000</td>\n",
       "      <td>274.000000</td>\n",
       "    </tr>\n",
       "    <tr>\n",
       "      <th>4</th>\n",
       "      <td>percentage_paysage</td>\n",
       "      <td>0.997403</td>\n",
       "      <td>0.124729</td>\n",
       "      <td>1.000000</td>\n",
       "    </tr>\n",
       "    <tr>\n",
       "      <th>5</th>\n",
       "      <td>nb_idref</td>\n",
       "      <td>276.000000</td>\n",
       "      <td>1964.000000</td>\n",
       "      <td>271.000000</td>\n",
       "    </tr>\n",
       "    <tr>\n",
       "      <th>6</th>\n",
       "      <td>percentage_idref</td>\n",
       "      <td>0.716883</td>\n",
       "      <td>0.426030</td>\n",
       "      <td>0.989051</td>\n",
       "    </tr>\n",
       "  </tbody>\n",
       "</table>\n",
       "</div>"
      ],
      "text/plain": [
       "            indicator    tutelles  laboratoires          ED\n",
       "0            nb_total  385.000000   4610.000000  274.000000\n",
       "1              nb_ror  342.000000   1067.000000    0.000000\n",
       "2      percentage_ror    0.888312      0.231453    0.000000\n",
       "3          nb_paysage  384.000000    575.000000  274.000000\n",
       "4  percentage_paysage    0.997403      0.124729    1.000000\n",
       "5            nb_idref  276.000000   1964.000000  271.000000\n",
       "6    percentage_idref    0.716883      0.426030    0.989051"
      ]
     },
     "execution_count": 27,
     "metadata": {},
     "output_type": "execute_result"
    }
   ],
   "source": [
    "df_stats"
   ]
  },
  {
   "cell_type": "code",
   "execution_count": null,
   "id": "3e07185d",
   "metadata": {},
   "outputs": [],
   "source": []
  }
 ],
 "metadata": {
  "kernelspec": {
   "display_name": "Python 3",
   "language": "python",
   "name": "python3"
  },
  "language_info": {
   "codemirror_mode": {
    "name": "ipython",
    "version": 3
   },
   "file_extension": ".py",
   "mimetype": "text/x-python",
   "name": "python",
   "nbconvert_exporter": "python",
   "pygments_lexer": "ipython3",
   "version": "3.9.1"
  }
 },
 "nbformat": 4,
 "nbformat_minor": 5
}
