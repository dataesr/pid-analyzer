{
 "cells": [
  {
   "cell_type": "code",
   "execution_count": null,
   "id": "21627aa4",
   "metadata": {},
   "outputs": [],
   "source": [
    "import requests\n",
    "import math\n",
    "import pandas as pd\n",
    "API_KEY = open('../.env').read().strip()\n",
    "PAYSAGE_URL = 'https://api.paysage.dataesr.ovh/structures'"
   ]
  },
  {
   "cell_type": "code",
   "execution_count": 2,
   "id": "20828e54",
   "metadata": {},
   "outputs": [],
   "source": [
    "def get_all_ids(paysage_id):\n",
    "    URL = f'{PAYSAGE_URL}/{paysage_id}/identifiers?limit=500'\n",
    "    r = requests.get(URL, headers={'X-API-KEY': API_KEY}).json()\n",
    "    res = r['data']\n",
    "    for e in res:\n",
    "        for f in ['createdBy', 'createdAt', 'id', 'resourceId']:\n",
    "            if f in e:\n",
    "                del e[f]\n",
    "    res.append({'type': 'paysage', 'value': paysage_id, 'active': True})\n",
    "    return res"
   ]
  },
  {
   "cell_type": "code",
   "execution_count": 3,
   "id": "28ca61e7",
   "metadata": {},
   "outputs": [],
   "source": [
    "def get_all_paysage_structures():\n",
    "    skip = 0\n",
    "    limit = 20000\n",
    "    r_paysage = requests.get(f'{PAYSAGE_URL}?limit={limit}&skip={skip}', headers={'X-API-KEY': API_KEY}).json()\n",
    "    data = r_paysage['data']\n",
    "    total = r_paysage['totalCount']\n",
    "    \n",
    "    nb_page = math.ceil(total / limit)\n",
    "    for p in range (1, nb_page+1):\n",
    "        print(p, end=',')\n",
    "        skip = p * limit\n",
    "        r_paysage = requests.get(f'{PAYSAGE_URL}?limit={limit}&skip={skip}', headers={'X-API-KEY': API_KEY}).json()\n",
    "        data += r_paysage['data']\n",
    "    assert(len(data) == total)\n",
    "    print(f'{total} structures retrieved from paysage')\n",
    "    return data"
   ]
  },
  {
   "cell_type": "code",
   "execution_count": 4,
   "id": "55c25cad",
   "metadata": {},
   "outputs": [
    {
     "name": "stdout",
     "output_type": "stream",
     "text": [
      "1,12279 structures retrieved from paysage\n"
     ]
    }
   ],
   "source": [
    "structures_paysage = get_all_paysage_structures()"
   ]
  },
  {
   "cell_type": "code",
   "execution_count": 5,
   "id": "d290f768",
   "metadata": {},
   "outputs": [
    {
     "data": {
      "text/plain": [
       "10895"
      ]
     },
     "execution_count": 5,
     "metadata": {},
     "output_type": "execute_result"
    }
   ],
   "source": [
    "active_structures_paysage = [k for k in structures_paysage if k.get('structureStatus') == 'active']\n",
    "len(active_structures_paysage)"
   ]
  },
  {
   "cell_type": "code",
   "execution_count": 6,
   "id": "2f272a70",
   "metadata": {},
   "outputs": [
    {
     "name": "stdout",
     "output_type": "stream",
     "text": [
      "0,500,1000,1500,2000,2500,3000,3500,4000,4500,5000,5500,6000,6500,7000,7500,8000,8500,9000,9500,10000,10500,"
     ]
    }
   ],
   "source": [
    "for ix, e in enumerate(active_structures_paysage):\n",
    "    if ix%500 == 0:\n",
    "        print(ix, end=',')\n",
    "    e['ids'] = get_all_ids(e['id'])"
   ]
  },
  {
   "cell_type": "code",
   "execution_count": 7,
   "id": "b200468e",
   "metadata": {},
   "outputs": [],
   "source": [
    "id_from_paysage = []\n",
    "for e in active_structures_paysage:\n",
    "    has_id = False\n",
    "    elt = {}\n",
    "    if len(e['ids']) < 2:\n",
    "        continue\n",
    "    elt['name'] = e['currentName']['usualName']\n",
    "    if 'city' in e['currentLocalisation']:\n",
    "        elt['city'] = e['currentLocalisation']['city']\n",
    "    if 'country' in e['currentLocalisation']:\n",
    "        elt['country'] = e['currentLocalisation']['country']\n",
    "    for x in e['ids']:\n",
    "        if x['type'] in ['paysage', 'wikidata', 'siret', 'ror', 'grid', 'idref', 'rnsr', 'cnrs', 'ed']:\n",
    "            id_type = x['type']\n",
    "            if True or (x.get('active') != False):\n",
    "                elt[id_type] = x['value']\n",
    "                if id_type == 'siret':\n",
    "                    elt['siren'] = x['value'][0:9]\n",
    "                if id_type != 'paysage':\n",
    "                    has_id = True\n",
    "    if has_id:\n",
    "        id_from_paysage.append(elt)"
   ]
  },
  {
   "cell_type": "code",
   "execution_count": 8,
   "id": "5dce87de",
   "metadata": {},
   "outputs": [],
   "source": [
    "df = pd.DataFrame(id_from_paysage)"
   ]
  },
  {
   "cell_type": "code",
   "execution_count": 9,
   "id": "17b15201",
   "metadata": {},
   "outputs": [],
   "source": [
    "for f in ['siren', 'siret', 'idref', 'ed']:\n",
    "    df[f] = df[f].astype(str)"
   ]
  },
  {
   "cell_type": "code",
   "execution_count": 10,
   "id": "504ed4b1",
   "metadata": {},
   "outputs": [],
   "source": [
    "df.to_json('paysage.jsonl', lines=True, orient='records')"
   ]
  },
  {
   "cell_type": "code",
   "execution_count": null,
   "id": "ebe2dca3",
   "metadata": {},
   "outputs": [],
   "source": [
    "df[df.ror=='057qpr032']"
   ]
  },
  {
   "cell_type": "code",
   "execution_count": null,
   "id": "e1761128",
   "metadata": {},
   "outputs": [],
   "source": []
  }
 ],
 "metadata": {
  "kernelspec": {
   "display_name": "Python 3",
   "language": "python",
   "name": "python3"
  },
  "language_info": {
   "codemirror_mode": {
    "name": "ipython",
    "version": 3
   },
   "file_extension": ".py",
   "mimetype": "text/x-python",
   "name": "python",
   "nbconvert_exporter": "python",
   "pygments_lexer": "ipython3",
   "version": "3.9.1"
  }
 },
 "nbformat": 4,
 "nbformat_minor": 5
}
